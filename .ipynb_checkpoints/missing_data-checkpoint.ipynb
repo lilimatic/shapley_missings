{
 "cells": [
  {
   "cell_type": "code",
   "execution_count": 1,
   "metadata": {},
   "outputs": [],
   "source": [
    "import numpy as np\n",
    "\n",
    "import random\n",
    "\n",
    "import pandas as pd\n",
    "\n",
    "random.seed(1)\n",
    "\n",
    "from emukit.test_functions.sensitivity import Ishigami"
   ]
  },
  {
   "cell_type": "code",
   "execution_count": 7,
   "metadata": {},
   "outputs": [],
   "source": [
    "class Missingness_mechanism:\n",
    "    \n",
    "    def __init__(self,d,n,p):\n",
    "        #Dimension\n",
    "        self.d = d\n",
    "        #Number of observations\n",
    "        self.n = n\n",
    "        #MCAR Bernoulli prob.\n",
    "        self.p = p\n",
    "    \n",
    "    \n",
    "    def data(self):\n",
    "        return pd.DataFrame(np.random.uniform(0,1,size=(self.n, self.d)))\n",
    "    \n",
    "    def ishigami(self):\n",
    "        df = self.data()\n",
    "        return lambda a, b: np.sin(self.data()[0]) + a * np.sin(self.data()[1])**2 + b * (self.data()[2])**4 * np.sin(self.data()[0])\n",
    "        \n",
    "    def sample(self, a, b):\n",
    "        return self.data().assign(Y = self.ishigami()(a, b))\n",
    "    \n",
    "    #MCAR missing data mechanism\n",
    "    def mcar(self):\n",
    "        return pd.DataFrame(np.random.binomial(size=(self.n,self.d), n=1, p= self.p))\n",
    "    \n",
    "    #Callable function that depends on missingness mechanism\n",
    "    def data_missing(self):\n",
    "        return lambda x: self.data()[x == 1]\n",
    "    \n",
    "    #Complete case analysis\n",
    "    def cc(self):\n",
    "        return lambda x: self.data_missing()(x).dropna()     "
   ]
  },
  {
   "cell_type": "code",
   "execution_count": 12,
   "metadata": {},
   "outputs": [
    {
     "data": {
      "text/plain": [
       "0     0.757870\n",
       "1    -0.151084\n",
       "2     0.301855\n",
       "3    -0.371733\n",
       "4    -0.320794\n",
       "        ...   \n",
       "95    0.006182\n",
       "96   -0.236725\n",
       "97   -0.702578\n",
       "98    1.324062\n",
       "99   -0.131274\n",
       "Length: 100, dtype: float64"
      ]
     },
     "execution_count": 12,
     "metadata": {},
     "output_type": "execute_result"
    }
   ],
   "source": [
    "test = Missingness_mechanism(8,100,0.7)\n",
    "\n",
    "df = test.data()\n",
    "\n",
    "mcar = test.mcar()\n",
    "\n",
    "z = test.data_missing()(mcar)\n",
    "\n",
    "cc = test.cc()(mcar)\n",
    "\n",
    "y = test.ishigami()(1,1)\n",
    "\n",
    "\n",
    "test.sample(1, 1)['Y']-y"
   ]
  },
  {
   "cell_type": "code",
   "execution_count": null,
   "metadata": {},
   "outputs": [],
   "source": []
  },
  {
   "cell_type": "code",
   "execution_count": null,
   "metadata": {},
   "outputs": [],
   "source": []
  }
 ],
 "metadata": {
  "kernelspec": {
   "display_name": "Python 3",
   "language": "python",
   "name": "python3"
  },
  "language_info": {
   "codemirror_mode": {
    "name": "ipython",
    "version": 3
   },
   "file_extension": ".py",
   "mimetype": "text/x-python",
   "name": "python",
   "nbconvert_exporter": "python",
   "pygments_lexer": "ipython3",
   "version": "3.8.5"
  }
 },
 "nbformat": 4,
 "nbformat_minor": 4
}
