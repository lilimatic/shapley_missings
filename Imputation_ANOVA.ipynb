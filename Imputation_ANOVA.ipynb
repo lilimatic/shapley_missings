{
 "cells": [
  {
   "cell_type": "code",
   "execution_count": 1,
   "metadata": {},
   "outputs": [],
   "source": [
    "from anova_no_int import *\n",
    "import random \n",
    "from sklearn.impute import SimpleImputer"
   ]
  },
  {
   "cell_type": "code",
   "execution_count": 2,
   "metadata": {},
   "outputs": [],
   "source": [
    "n = 100000 # number of observations\n",
    "d = 3 # number of variables\n",
    "prob = 0.9"
   ]
  },
  {
   "cell_type": "markdown",
   "metadata": {},
   "source": [
    "#### ANOVA without interaction terms"
   ]
  },
  {
   "cell_type": "code",
   "execution_count": 3,
   "metadata": {},
   "outputs": [],
   "source": [
    "random.seed(24)\n",
    "hsample = pd.DataFrame(np.random.uniform(0,1,size=(n, d)))\n",
    "\n",
    "#hsample['Y'] =  np.sin(hsample[0]) + a* np.sin(hsample[1])**2  + b* (hsample[2])**4 \n",
    "\n",
    "mcar = hsample.copy()\n",
    "\n",
    "df_z = mcar[pd.DataFrame(np.random.binomial(size=(n,d), n=1, p= prob)) == 1] # we see no problems with MCAR\n",
    "\n",
    "hsample['Y'] =  np.sin(hsample[0]) + a* np.sin(hsample[1])**2  + b* (hsample[2])**4 \n",
    "df_z['Y'] = hsample['Y'].copy()"
   ]
  },
  {
   "cell_type": "code",
   "execution_count": 4,
   "metadata": {},
   "outputs": [
    {
     "data": {
      "text/plain": [
       "[0.5671144358940737, 0.1143926260615992, 0.3231520363115714]"
      ]
     },
     "execution_count": 4,
     "metadata": {},
     "output_type": "execute_result"
    }
   ],
   "source": [
    "#H-Sample ANOVA\n",
    "\n",
    "anova_hsample = ANOVA_ishigami(hsample)\n",
    "\n",
    "ANOVA_hsample = anova_hsample.functional_anova()\n",
    "\n",
    "var_hsample = anova_hsample.variance_anova()\n",
    "\n",
    "var_hsample"
   ]
  },
  {
   "cell_type": "code",
   "execution_count": 12,
   "metadata": {},
   "outputs": [],
   "source": [
    "#MAR\n",
    "mar_sample = hsample.copy()\n",
    "\n",
    "#everything above 90th quantile gone \n",
    "\n",
    "#one condition \n",
    "mar_sample[0][(mar_sample[1] > np.quantile(mar_sample[1], 0.7))] = np.nan\n",
    "\n",
    "#two conditions \n",
    "#mar_sample[0][(mar_sample[1] <np.quantile(mar_sample[1], 0.1)) | (mar_sample[2] < np.quantile(mar_sample[2], 0.1))] = np.nan\n",
    "\n",
    "#mar_sample\n",
    "\n",
    " #fill ANOVA\n",
    "mar_sample.fillna(mar_sample.mean())\n",
    "\n",
    "anova_mar = ANOVA_ishigami(mar_sample)\n",
    "ANOVA_mar = anova_mar.functional_anova()\n",
    "var_mar = anova_mar.variance_anova()\n",
    "\n",
    "var_mar #Variable that we base criteria on looses importance"
   ]
  },
  {
   "cell_type": "code",
   "execution_count": 13,
   "metadata": {},
   "outputs": [
    {
     "data": {
      "text/plain": [
       "[0.5272556081399072, 0.1143926260615992, 0.3231520363115714]"
      ]
     },
     "execution_count": 13,
     "metadata": {},
     "output_type": "execute_result"
    }
   ],
   "source": [
    "#MNAR\n",
    "\n",
    "mnar_sample = hsample.copy()\n",
    "\n",
    "#everything above 90th quantile gone \n",
    "mnar_sample[0][mnar_sample[0] >np.quantile(mnar_sample[0], 0.95)] = np.nan\n",
    "\n",
    "## Imputation\n",
    "mnar_sample.fillna(mnar_sample.mean())\n",
    "\n",
    "anova_mnar = ANOVA_ishigami(mnar_sample)\n",
    "ANOVA_mnar = anova_mnar.functional_anova()\n",
    "var_mnar = anova_mnar.variance_anova()\n",
    "\n",
    "var_mnar #Variable that we base criteria on looses importance"
   ]
  },
  {
   "cell_type": "code",
   "execution_count": 14,
   "metadata": {},
   "outputs": [
    {
     "data": {
      "text/plain": [
       "[0.5667370653466919, 0.11433349653766949, 0.3234043119705707]"
      ]
     },
     "execution_count": 14,
     "metadata": {},
     "output_type": "execute_result"
    }
   ],
   "source": [
    "#MCAR \n",
    "\n",
    "#Target always observed\n",
    "df_z.fillna(df_z.mean())\n",
    "\n",
    "anova_mcar = ANOVA_ishigami(df_z)\n",
    "\n",
    "ANOVA_mcar = anova_mcar.functional_anova()\n",
    "\n",
    "var_mcar = anova_mcar.variance_anova()\n",
    "\n",
    "var_mcar"
   ]
  },
  {
   "cell_type": "code",
   "execution_count": null,
   "metadata": {},
   "outputs": [],
   "source": []
  }
 ],
 "metadata": {
  "kernelspec": {
   "display_name": "Python 3",
   "language": "python",
   "name": "python3"
  },
  "language_info": {
   "codemirror_mode": {
    "name": "ipython",
    "version": 3
   },
   "file_extension": ".py",
   "mimetype": "text/x-python",
   "name": "python",
   "nbconvert_exporter": "python",
   "pygments_lexer": "ipython3",
   "version": "3.8.5"
  }
 },
 "nbformat": 4,
 "nbformat_minor": 4
}
