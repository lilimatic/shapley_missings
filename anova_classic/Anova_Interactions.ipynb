{
 "cells": [
  {
   "cell_type": "markdown",
   "metadata": {},
   "source": [
    "## ANOVA decomposition with interaction terms\n",
    "\n",
    "Let $X=(X_{1},X_{2})$ denote the input vector and \n",
    "\\begin{equation*}\n",
    "    m(X) = \\beta_{0} + \\beta_{1} X_{1} + \\beta_{2} X_{2} + \\beta_{3} X_{1} X_{2}. \n",
    "\\end{equation*}\n",
    "At this point in time, we do not consider the error term $\\varepsilon$. \n",
    "\n",
    "The grand mean is\n",
    "\\begin{equation*}\n",
    "    \\mu =  \\beta_{0} + \\beta_{1} E_{X_{1}} \\left( X_{1} \\right)\n",
    "    + \\beta_{2} E_{X_{2}} \\left( X_{1} \\right) +\n",
    "    \\beta_{3} E_{X_{1}} \\left( X_{1} \\right) E_{X_{2}} \\left( X_{1} \\right) +\n",
    "\\end{equation*}\n",
    "A main effects are\n",
    "\\begin{equation*}\n",
    "    m_{\\{i\\}} \\left(X\\right)\n",
    "    = \\beta_{i} \\left(X_{i} - E_{X_{i}} \\left(X_{i}\\right)\\right) + \\beta_{3} \\left(X_{i} - E_{X_{i}} \\left(X_{i}\\right)\\right) E_{X_{-i}}\n",
    "    \\left(X_{-i}\\right), \\ i \\in \\{1,2\\}. \n",
    "\\end{equation*}\n",
    "The main effect of $S=\\{1,2\\}$ is\n",
    "\\begin{equation*}\n",
    "\\begin{aligned}\n",
    "m_{\\{1,2\\}} &= m (X) - m_{\\{1\\}} (X) - m_{\\{2\\}} (X) - \\mu \\\\\n",
    "&= \\beta_{3} X_{1} X_{2} - \\beta_{3} X_1 E_{X_{2}} \\left(X_{2}\\right)  - \\beta_{3} X_2 E_{X_{1}} \\left(X_{1}\\right) - \\beta_{3} E_{X_{1}} \\left( X_{1} \\right) E_{X_{2}} \\left( X_{1} \\right).\n",
    "\\end{aligned}\n",
    "\\end{equation*}\n",
    "The resulting decomposition is\n",
    "\\begin{equation*}\n",
    "    m \\left(X \\right) = \\mu + m_{\\{1\\}} \\left(X\\right) + m_{\\{2\\}} \\left(X\\right) +  m_{1,2} \\left(X\\right) + \\varepsilon\n",
    "\\end{equation*}"
   ]
  },
  {
   "cell_type": "code",
   "execution_count": 1,
   "metadata": {},
   "outputs": [],
   "source": [
    "from anova_class import *"
   ]
  },
  {
   "cell_type": "code",
   "execution_count": 2,
   "metadata": {},
   "outputs": [],
   "source": [
    "n = 10000 # number of observations\n",
    "d = 3 # number of variables\n",
    "\n",
    "beta1 = 3\n",
    "beta2 = 5\n",
    "beta3 = 7"
   ]
  },
  {
   "cell_type": "code",
   "execution_count": 3,
   "metadata": {},
   "outputs": [],
   "source": [
    "#Create sample\n",
    "\n",
    "hsample = pd.DataFrame(np.random.uniform(0,1,size=(n, d)))\n",
    "\n",
    "hsample['Y'] =beta1*hsample[0] + beta2 *hsample[1] + beta3 * hsample[0]*hsample[1] + np.random.normal(0,1)\n",
    "\n"
   ]
  },
  {
   "cell_type": "code",
   "execution_count": 4,
   "metadata": {},
   "outputs": [
    {
     "data": {
      "text/plain": [
       "array([[0.08249569, 0.00062017],\n",
       "       [0.00062017, 0.0819782 ]])"
      ]
     },
     "execution_count": 4,
     "metadata": {},
     "output_type": "execute_result"
    }
   ],
   "source": [
    "np.cov(hsample[0],hsample[1])"
   ]
  },
  {
   "cell_type": "markdown",
   "metadata": {},
   "source": [
    "### ANOVA decomposition\n",
    "\n",
    "Problems: The variance does not sum up to the total variance, although decomposition precision is good. \n",
    "\n",
    "Further, $\\frac{\\sigma_{2}^{2}}{\\sigma^{2}} = 1.0710562747914085$. From a theoretical perspective this is impossible. "
   ]
  },
  {
   "cell_type": "code",
   "execution_count": 5,
   "metadata": {},
   "outputs": [
    {
     "name": "stdout",
     "output_type": "stream",
     "text": [
      "Decomposition precision:0.0\n",
      "Percentage of total variance : $\\sigma$,$\\sigma_{1}$,$\\sigma_{2}$,$\\sigma_{12}$\n"
     ]
    },
    {
     "data": {
      "text/plain": [
       "[1.0, 0.3563066853413444, 0.605666359240587, 0.03396455237777819]"
      ]
     },
     "execution_count": 5,
     "metadata": {},
     "output_type": "execute_result"
    }
   ],
   "source": [
    "ANOVA(hsample).linear_anova(beta1,beta2,beta3)"
   ]
  },
  {
   "cell_type": "code",
   "execution_count": null,
   "metadata": {},
   "outputs": [],
   "source": []
  }
 ],
 "metadata": {
  "kernelspec": {
   "display_name": "Python 3",
   "language": "python",
   "name": "python3"
  },
  "language_info": {
   "codemirror_mode": {
    "name": "ipython",
    "version": 3
   },
   "file_extension": ".py",
   "mimetype": "text/x-python",
   "name": "python",
   "nbconvert_exporter": "python",
   "pygments_lexer": "ipython3",
   "version": "3.8.5"
  }
 },
 "nbformat": 4,
 "nbformat_minor": 4
}
