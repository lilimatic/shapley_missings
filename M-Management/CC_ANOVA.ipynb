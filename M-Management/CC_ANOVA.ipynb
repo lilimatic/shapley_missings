{
 "cells": [
  {
   "cell_type": "code",
   "execution_count": 1,
   "metadata": {},
   "outputs": [
    {
     "ename": "ModuleNotFoundError",
     "evalue": "No module named 'anova_no_int'",
     "output_type": "error",
     "traceback": [
      "\u001b[0;31m---------------------------------------------------------------------------\u001b[0m",
      "\u001b[0;31mModuleNotFoundError\u001b[0m                       Traceback (most recent call last)",
      "\u001b[0;32m<ipython-input-1-9bbb1fc8aeef>\u001b[0m in \u001b[0;36m<module>\u001b[0;34m\u001b[0m\n\u001b[0;32m----> 1\u001b[0;31m \u001b[0;32mfrom\u001b[0m \u001b[0manova_no_int\u001b[0m \u001b[0;32mimport\u001b[0m \u001b[0;34m*\u001b[0m\u001b[0;34m\u001b[0m\u001b[0;34m\u001b[0m\u001b[0m\n\u001b[0m\u001b[1;32m      2\u001b[0m \u001b[0;32mimport\u001b[0m \u001b[0mrandom\u001b[0m\u001b[0;34m\u001b[0m\u001b[0;34m\u001b[0m\u001b[0m\n",
      "\u001b[0;31mModuleNotFoundError\u001b[0m: No module named 'anova_no_int'"
     ]
    }
   ],
   "source": [
    "from anova_no_int import *\n",
    "import random "
   ]
  },
  {
   "cell_type": "code",
   "execution_count": null,
   "metadata": {},
   "outputs": [],
   "source": [
    "n = 100000 # number of observations\n",
    "d = 3 # number of variables\n",
    "prob = 0.2"
   ]
  },
  {
   "cell_type": "code",
   "execution_count": null,
   "metadata": {},
   "outputs": [],
   "source": [
    "## ANOVA Ishigami without interaction effects derived on paper"
   ]
  },
  {
   "cell_type": "code",
   "execution_count": null,
   "metadata": {},
   "outputs": [],
   "source": [
    "random.seed(24)\n",
    "hsample = pd.DataFrame(np.random.uniform(0,1,size=(n, d)))\n",
    "\n",
    "hsample['Y'] =  np.sin(hsample[0]) + a* np.sin(hsample[1])**2  + b* (hsample[2])**4 \n",
    "\n",
    "mcar = hsample.copy()\n",
    "\n",
    "df_z = mcar[pd.DataFrame(np.random.binomial(size=(n,d), n=1, p= prob)) == 1] # we see no problems with MCAR\n",
    "\n"
   ]
  },
  {
   "cell_type": "code",
   "execution_count": null,
   "metadata": {},
   "outputs": [],
   "source": [
    "#H-Sample ANOVA\n",
    "\n",
    "anova_hsample = ANOVA_ishigami(hsample)\n",
    "\n",
    "ANOVA_hsample = anova_hsample.functional_anova()\n",
    "\n",
    "var_hsample = anova_hsample.variance_anova()\n",
    "\n",
    "var_hsample"
   ]
  },
  {
   "cell_type": "code",
   "execution_count": null,
   "metadata": {},
   "outputs": [],
   "source": [
    "#MCAR \n",
    "\n",
    "#Target always observed\n",
    "df_z['Y'] = hsample['Y'].copy()\n",
    "\n",
    "cc = df_z.dropna()\n",
    "\n",
    "anova_cc = ANOVA_ishigami(cc)\n",
    "\n",
    "ANOVA_cc = anova_cc.functional_anova()\n",
    "\n",
    "var_cc = anova_cc.variance_anova()\n",
    "\n",
    "var_cc"
   ]
  },
  {
   "cell_type": "code",
   "execution_count": null,
   "metadata": {},
   "outputs": [],
   "source": [
    "#MAR\n",
    "\n",
    "mar_sample = hsample.copy()\n",
    "\n",
    "#everything above 90th quantile gone \n",
    "\n",
    "#one condition \n",
    "mar_sample[0][(mar_sample[1] > np.quantile(mar_sample[1], 0.9))] = np.nan\n",
    "\n",
    "#two conditions \n",
    "#mar_sample[0][(mar_sample[1] <np.quantile(mar_sample[1], 0.1)) | (mar_sample[2] < np.quantile(mar_sample[2], 0.1))] = np.nan\n",
    "\n",
    "## Complete-case analysis \n",
    "\n",
    "mar_sample_cc = mar_sample.dropna()\n",
    "anova_cc_mar = ANOVA_ishigami(mar_sample_cc)\n",
    "ANOVA_cc_mar = anova_cc_mar.functional_anova()\n",
    "var_cc_mar = anova_cc_mar.variance_anova()\n",
    "\n",
    "var_cc_mar #Variable that we base criteria on looses importance"
   ]
  },
  {
   "cell_type": "code",
   "execution_count": null,
   "metadata": {},
   "outputs": [],
   "source": [
    "#MNAR\n",
    "\n",
    "mnar_sample = hsample.copy()\n",
    "\n",
    "#everything above 90th quantile gone \n",
    "mnar_sample[0][mnar_sample[0] >np.quantile(mnar_sample[0], 0.9)] = np.nan\n",
    "\n",
    "## Complete-case analysis \n",
    "\n",
    "mnar_sample_cc = mnar_sample.dropna()\n",
    "anova_cc_mnar = ANOVA_ishigami(mnar_sample_cc)\n",
    "ANOVA_cc_mnar = anova_cc_mnar.functional_anova()\n",
    "var_cc_mnar = anova_cc_mnar.variance_anova()\n",
    "\n",
    "var_cc_mnar #Variable that we base criteria on looses importance"
   ]
  },
  {
   "cell_type": "code",
   "execution_count": null,
   "metadata": {},
   "outputs": [],
   "source": [
    "mnar_sample = hsample.copy()\n",
    "\n",
    "#everything above 90th quantile gone \n",
    "mnar_sample[1][mnar_sample[1] >np.quantile(mnar_sample[1], 0.9)] = np.nan\n",
    "\n",
    "## Complete-case analysis \n",
    "\n",
    "mnar_sample_cc = mnar_sample.dropna()\n",
    "anova_cc_mnar = ANOVA_ishigami(mnar_sample_cc)\n",
    "ANOVA_cc_mnar = anova_cc_mnar.functional_anova()\n",
    "var_cc_mnar = anova_cc_mnar.variance_anova()\n",
    "\n",
    "var_cc_mnar #Variable that we base criteria on looses importance"
   ]
  },
  {
   "cell_type": "code",
   "execution_count": null,
   "metadata": {},
   "outputs": [],
   "source": [
    "mnar_sample = hsample.copy()\n",
    "\n",
    "#everything above 90th quantile gone \n",
    "mnar_sample[2][mnar_sample[2] >np.quantile(mnar_sample[2], 0.9)] = np.nan\n",
    "\n",
    "## Complete-case analysis \n",
    "\n",
    "mnar_sample_cc = mnar_sample.dropna()\n",
    "anova_cc_mnar = ANOVA_ishigami(mnar_sample_cc)\n",
    "ANOVA_cc_mnar = anova_cc_mnar.functional_anova()\n",
    "var_cc_mnar = anova_cc_mnar.variance_anova()\n",
    "\n",
    "var_cc_mnar #Variable that we base criteria on looses importance\n",
    "\n"
   ]
  },
  {
   "cell_type": "code",
   "execution_count": null,
   "metadata": {},
   "outputs": [],
   "source": []
  }
 ],
 "metadata": {
  "kernelspec": {
   "display_name": "Python 3",
   "language": "python",
   "name": "python3"
  },
  "language_info": {
   "codemirror_mode": {
    "name": "ipython",
    "version": 3
   },
   "file_extension": ".py",
   "mimetype": "text/x-python",
   "name": "python",
   "nbconvert_exporter": "python",
   "pygments_lexer": "ipython3",
   "version": "3.8.5"
  }
 },
 "nbformat": 4,
 "nbformat_minor": 4
}
